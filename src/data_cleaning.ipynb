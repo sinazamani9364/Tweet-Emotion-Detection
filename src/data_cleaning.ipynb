{
  "nbformat": 4,
  "nbformat_minor": 0,
  "metadata": {
    "colab": {
      "provenance": []
    },
    "kernelspec": {
      "name": "python3",
      "display_name": "Python 3"
    },
    "language_info": {
      "name": "python"
    }
  },
  "cells": [
    {
      "cell_type": "code",
      "source": [
        "import pandas as pd\n",
        "import re\n",
        "import csv"
      ],
      "metadata": {
        "id": "LQF53GeB-0I3"
      },
      "execution_count": null,
      "outputs": []
    },
    {
      "cell_type": "code",
      "execution_count": null,
      "metadata": {
        "id": "RRqfEgcV8J1z"
      },
      "outputs": [],
      "source": [
        "def change_usernames(text):\n",
        "  try:\n",
        "    result = []\n",
        "    for word in text.split():\n",
        "      if word[0] != '@':\n",
        "        result.append(word)\n",
        "      else:\n",
        "        result.append('@Twitter-handle:')\n",
        "    return ' '.join(result)\n",
        "  except:\n",
        "    return ''"
      ]
    },
    {
      "cell_type": "code",
      "source": [
        "def change_urls(text):\n",
        "  text = re.sub(r'http\\S+', 'URL', text)\n",
        "  return text"
      ],
      "metadata": {
        "id": "vndqM7FF8ik3"
      },
      "execution_count": null,
      "outputs": []
    },
    {
      "cell_type": "code",
      "source": [
        "def read_data_file(file_name):\n",
        "  data = pd.read_csv(file_name, usecols=['Tweet'])\n",
        "\n",
        "  raw_data = []\n",
        "  for row in data['Tweet']:\n",
        "    result = change_usernames(row)\n",
        "    result = change_urls(result)\n",
        "    raw_data.append(result)\n",
        "\n",
        "  return raw_data\n",
        "\n",
        "processed_data = read_data_file('raw_data.csv')"
      ],
      "metadata": {
        "id": "nsGweOfB-MiR"
      },
      "execution_count": null,
      "outputs": []
    },
    {
      "cell_type": "code",
      "source": [
        "def write_data_to_csv(data_list, file_name):\n",
        "    with open(file_name, 'w', newline='') as csv_file:\n",
        "        writer = csv.writer(csv_file)\n",
        "        writer.writerow(['Tweet'])\n",
        "        for item in data_list:\n",
        "            writer.writerow([item])"
      ],
      "metadata": {
        "id": "yOEDEsvqCeLV"
      },
      "execution_count": null,
      "outputs": []
    },
    {
      "cell_type": "code",
      "source": [
        "write_data_to_csv(processed_data, 'clean_data.csv')"
      ],
      "metadata": {
        "id": "iCVSlVNLEWIV"
      },
      "execution_count": null,
      "outputs": []
    }
  ]
}