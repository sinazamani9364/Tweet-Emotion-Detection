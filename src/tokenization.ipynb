{
  "nbformat": 4,
  "nbformat_minor": 0,
  "metadata": {
    "colab": {
      "provenance": []
    },
    "kernelspec": {
      "name": "python3",
      "display_name": "Python 3"
    },
    "language_info": {
      "name": "python"
    }
  },
  "cells": [
    {
      "cell_type": "code",
      "source": [
        "!pip install sentencepiece"
      ],
      "metadata": {
        "id": "D_Mb8Hx_Oeft"
      },
      "execution_count": null,
      "outputs": []
    },
    {
      "cell_type": "code",
      "execution_count": null,
      "metadata": {
        "id": "3be6T6TvNDZQ"
      },
      "outputs": [],
      "source": [
        "from gensim.models import Word2Vec\n",
        "import sentencepiece as spm"
      ]
    },
    {
      "cell_type": "code",
      "source": [
        "model = Word2Vec.load('all.word2vec.bin')"
      ],
      "metadata": {
        "id": "1xgRAREBV9Az"
      },
      "execution_count": null,
      "outputs": []
    },
    {
      "cell_type": "code",
      "source": [
        "model.wv.save_word2vec_format('all.word2vec.txt', binary=False)"
      ],
      "metadata": {
        "id": "WRFas4zjWezm"
      },
      "execution_count": null,
      "outputs": []
    },
    {
      "cell_type": "code",
      "source": [
        "spm.SentencePieceTrainer.train(input='all.word2vec.txt', model_prefix='tokenizer', vocab_size=15000)"
      ],
      "metadata": {
        "id": "T-ndEAa6hAEA"
      },
      "execution_count": null,
      "outputs": []
    },
    {
      "cell_type": "code",
      "source": [
        "tokenizer = spm.SentencePieceProcessor()\n",
        "tokenizer.load('tokenizer.model')"
      ],
      "metadata": {
        "colab": {
          "base_uri": "https://localhost:8080/"
        },
        "id": "glWlurxLjdr3",
        "outputId": "f60e1fa0-5ff4-41a6-bdae-1f09f4a00522"
      },
      "execution_count": null,
      "outputs": [
        {
          "output_type": "execute_result",
          "data": {
            "text/plain": [
              "True"
            ]
          },
          "metadata": {},
          "execution_count": 14
        }
      ]
    },
    {
      "cell_type": "code",
      "source": [
        "text = \"How are you?\"\n",
        "tokenized_text = tokenizer.encode_as_pieces(text)"
      ],
      "metadata": {
        "id": "GkH9feIIkjfv"
      },
      "execution_count": null,
      "outputs": []
    },
    {
      "cell_type": "code",
      "source": [
        "tokenized_text"
      ],
      "metadata": {
        "colab": {
          "base_uri": "https://localhost:8080/"
        },
        "id": "S3DSgDNbkqLW",
        "outputId": "dffceaeb-a57f-46fb-ff65-f4ad6708bfa9"
      },
      "execution_count": null,
      "outputs": [
        {
          "output_type": "execute_result",
          "data": {
            "text/plain": [
              "['▁', 'H', 'o', 'w', '▁ar', 'e', '▁', 'y', 'o', 'u', '?']"
            ]
          },
          "metadata": {},
          "execution_count": 16
        }
      ]
    }
  ]
}