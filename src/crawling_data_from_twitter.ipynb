{
  "nbformat": 4,
  "nbformat_minor": 0,
  "metadata": {
    "colab": {
      "provenance": []
    },
    "kernelspec": {
      "name": "python3",
      "display_name": "Python 3"
    },
    "language_info": {
      "name": "python"
    }
  },
  "cells": [
    {
      "cell_type": "code",
      "source": [
        "import tweepy\n",
        "import pandas as pd\n",
        "import time\n",
        "\n",
        "# Twitter API credentials\n",
        "consumer_key = ###\n",
        "consumer_secret = ###\n",
        "access_token = ###\n",
        "access_token_secret = ###\n",
        "\n",
        "# Authenticate with Twitter API\n",
        "auth = tweepy.OAuthHandler(consumer_key, consumer_secret)\n",
        "auth.set_access_token(access_token, access_token_secret)\n",
        "api = tweepy.API(auth)\n",
        "\n",
        "search_query = 'lang:en'\n",
        "tweet_limit = 5000\n",
        "tweets = []\n",
        "\n",
        "try:\n",
        "  for tweet in tweepy.Cursor(api.search_tweets, q=search_query, lang='en').items(tweet_limit):\n",
        "    tweets.append([tweet.created_at, tweet.text])\n",
        "    time.sleep(1)  # Rate limit\n",
        "except tweepy.errors.TweepyException as e:\n",
        "  print(f\"Error: {e}\")\n",
        "\n",
        "df = pd.DataFrame(tweets, columns=['Date', 'Tweet'])\n",
        "df.to_csv('raw_data.csv', index=False)"
      ],
      "metadata": {
        "id": "baAaCBw53AiR"
      },
      "execution_count": null,
      "outputs": []
    }
  ]
}