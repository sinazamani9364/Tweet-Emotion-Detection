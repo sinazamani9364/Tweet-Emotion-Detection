{
  "nbformat": 4,
  "nbformat_minor": 0,
  "metadata": {
    "colab": {
      "provenance": []
    },
    "kernelspec": {
      "name": "python3",
      "display_name": "Python 3"
    },
    "language_info": {
      "name": "python"
    }
  },
  "cells": [
    {
      "cell_type": "code",
      "source": [
        "!pip install openai"
      ],
      "metadata": {
        "id": "qk_2Ru6hJbjF"
      },
      "execution_count": null,
      "outputs": []
    },
    {
      "cell_type": "code",
      "source": [
        "import openai\n",
        "import pandas as pd\n",
        "import csv\n",
        "openai.api_key = ###YOUR API KEY GOES HERE###"
      ],
      "metadata": {
        "id": "-Xlpu27A6ljQ"
      },
      "execution_count": null,
      "outputs": []
    },
    {
      "cell_type": "code",
      "source": [
        "def get_completion(prompt, model=\"gpt-3.5-turbo\"):\n",
        "    messages = [{\"role\": \"user\", \"content\": prompt}]\n",
        "    response = openai.ChatCompletion.create(\n",
        "        model=model,\n",
        "        messages=messages,\n",
        "        temperature=0, # this is the degree of randomness of the model's output\n",
        "    )\n",
        "    return response.choices[0].message[\"content\"]"
      ],
      "metadata": {
        "id": "UPZNnMdoJX6F"
      },
      "execution_count": null,
      "outputs": []
    },
    {
      "cell_type": "code",
      "source": [
        "def read_data_file(file_name):\n",
        "  data = pd.read_csv(file_name, usecols=['Tweet'])\n",
        "\n",
        "  final_data = []\n",
        "  for row in data['Tweet']:\n",
        "    final_data.append(row)\n",
        "\n",
        "  return final_data"
      ],
      "metadata": {
        "id": "nmAHtUguCSc7"
      },
      "execution_count": null,
      "outputs": []
    },
    {
      "cell_type": "code",
      "source": [
        "labels = ['sadness', 'happiness', 'fear', 'anger', 'surprise', 'disgust', 'neutral']\n",
        "def label_tweets(tweets):\n",
        "  labeled_tweets = {}\n",
        "  for tweet in tweets:\n",
        "    prompt1 = f\"You are an emotion classifier, classify the following input into one of the six emotions: sadness, happiness, fear, anger, surprise, and disgust, or neutral if it doesn't have a dominant emotion. Give a one-word answer from the list. Input: {tweet}\"\n",
        "    response = get_completion(prompt1)\n",
        "    if response.lower() in labels:\n",
        "      labeled_tweets[tweet] = response.lower()\n",
        "\n",
        "  return labeled_tweets"
      ],
      "metadata": {
        "id": "TnegEIJFJkjc"
      },
      "execution_count": null,
      "outputs": []
    },
    {
      "cell_type": "code",
      "source": [
        "def write_data_to_csv(data_dict, file_name):\n",
        "  with open(file_name, 'a', newline='') as csv_file:\n",
        "    writer = csv.writer(csv_file)\n",
        "    if csv_file.tell() == 0:\n",
        "      writer.writerow(['Tweet', 'Label'])\n",
        "    for item in data_dict:\n",
        "      writer.writerow([item, data_dict[item]])"
      ],
      "metadata": {
        "id": "B6v7eF77K-9N"
      },
      "execution_count": null,
      "outputs": []
    },
    {
      "cell_type": "code",
      "source": [
        "tweets = read_data_file('processed_data.csv')\n",
        "labeled_tweets = label_tweets(tweets)\n",
        "write_data_to_csv(labeled_tweets, 'labeled_data.csv')"
      ],
      "metadata": {
        "id": "CBPib1TST75z"
      },
      "execution_count": null,
      "outputs": []
    }
  ]
}